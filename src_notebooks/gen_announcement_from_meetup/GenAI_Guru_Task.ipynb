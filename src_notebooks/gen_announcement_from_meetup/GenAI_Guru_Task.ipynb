{
 "cells": [
  {
   "cell_type": "markdown",
   "metadata": {
    "id": "yylOxhgI2HKW"
   },
   "source": [
    "# GenAI Task: Create an LinkedIn post generator from Meetup event\n",
    "2024 Diego Minguzzi\n",
    "\n",
    "## Task analysis\n",
    "\n",
    "The idea is creating a simple script that, given:\n",
    "\n",
    "* the ID of the Meetup event (in the example it is 296972829)\n",
    "* additional, optional parameters provided by the user\n",
    "\n",
    "creates the text of the LinkedIn post.\n",
    "\n",
    "The output is composed of plain text and possibly URLs as text, given that LinkedIn is able to parse and preview them.\n",
    "In case the script needs API keys to issue requests to OpenAI or Meetup, such keys must be provided as variables.\n",
    "In case the script does not find a requested API key, it outputs an error message and no output text is generated.\n",
    "\n",
    "Given that the tool must be simple:\n",
    "\n",
    "* it is executed locally in the computer of the operator\n",
    "* no data is stored locally.\n",
    "\n",
    "The script is written in Python, Linux is the preferred execution environment.\n",
    "A list of package requirements is provided, so that any user can install and use the script.\n",
    "\n",
    "In order to distinguish between user input, post content, error messages, a simple GUI, developed using Gradio, is proposed.\n",
    "\n",
    "## Steps\n",
    "\n",
    "* given the Meetup event ID, extract the needed data using the Meetup API GraphQL\n",
    "* also extract the bio of the speaker and the URL to the image, they are provided as output, but not part of the prompt or the generated text.\n",
    "* with the extracted data compose a prompt for the LLM, making sure that the number of tokens does not exceeds the limits\n",
    "* show the generated post, or any error message.\n"
   ]
  },
  {
   "cell_type": "code",
   "execution_count": 1,
   "metadata": {
    "executionInfo": {
     "elapsed": 39055,
     "status": "ok",
     "timestamp": 1716566251893,
     "user": {
      "displayName": "Diego Minguzzi",
      "userId": "07723992504951144974"
     },
     "user_tz": -120
    },
    "id": "7zAgWe-i2h9N"
   },
   "outputs": [],
   "source": [
    "%%capture\n",
    "! pip install gradio\n",
    "! pip install openai\n",
    "! pip install tiktoken"
   ]
  },
  {
   "cell_type": "code",
   "execution_count": 2,
   "metadata": {
    "executionInfo": {
     "elapsed": 4245,
     "status": "ok",
     "timestamp": 1716566256127,
     "user": {
      "displayName": "Diego Minguzzi",
      "userId": "07723992504951144974"
     },
     "user_tz": -120
    },
    "id": "3n2RuoiE76W-"
   },
   "outputs": [],
   "source": [
    "import datetime\n",
    "import dateutil\n",
    "import gradio as gr\n",
    "import json\n",
    "import openai as oai\n",
    "import os\n",
    "import pytz\n",
    "import tiktoken"
   ]
  },
  {
   "cell_type": "code",
   "execution_count": 3,
   "metadata": {
    "executionInfo": {
     "elapsed": 3,
     "status": "ok",
     "timestamp": 1716566256127,
     "user": {
      "displayName": "Diego Minguzzi",
      "userId": "07723992504951144974"
     },
     "user_tz": -120
    },
    "id": "nwWn3ZQKH5az"
   },
   "outputs": [],
   "source": [
    "if os.getenv('OPENAI_API_KEY') is None:\n",
    "    print('Cannot find OPENAI_API_KEY environment variable.')\n",
    "    assert False\n",
    "open_ai_key= os.getenv('OPENAI_API_KEY')\n",
    "assert(len(open_ai_key)>0)"
   ]
  },
  {
   "cell_type": "markdown",
   "metadata": {
    "id": "ClUEzfLX18cu"
   },
   "source": [
    "## Retrieve data from Meetup\n",
    "Using the GraphQL Playground, available in Meetup, I issued the following request, and I got the reply pasted below."
   ]
  },
  {
   "cell_type": "code",
   "execution_count": 4,
   "metadata": {
    "executionInfo": {
     "elapsed": 5,
     "status": "aborted",
     "timestamp": 1716566256562,
     "user": {
      "displayName": "Diego Minguzzi",
      "userId": "07723992504951144974"
     },
     "user_tz": -120
    },
    "id": "TZDL_RV75UJE"
   },
   "outputs": [],
   "source": [
    "meetup=request=\"\"\"\n",
    "  query {\n",
    "    event(id: \"296972829\") {\n",
    "      title\n",
    "      eventUrl\n",
    "      description\n",
    "      dateTime\n",
    "      duration\n",
    "      speakerDetails {\n",
    "        name\n",
    "        description\n",
    "        socialNetworks {\n",
    "          service\n",
    "          url\n",
    "        }\n",
    "      }\n",
    "      host {\n",
    "        name\n",
    "      }\n",
    "    }\n",
    "  }\n",
    "\"\"\""
   ]
  },
  {
   "cell_type": "code",
   "execution_count": 5,
   "metadata": {
    "executionInfo": {
     "elapsed": 5,
     "status": "aborted",
     "timestamp": 1716566256563,
     "user": {
      "displayName": "Diego Minguzzi",
      "userId": "07723992504951144974"
     },
     "user_tz": -120
    },
    "id": "iwwv_H5c7Q0e"
   },
   "outputs": [],
   "source": [
    "meetup_json_reply=\"\"\"\n",
    "{\n",
    "  \"data\": {\n",
    "    \"event\": {\n",
    "      \"title\": \"Azure's AI Symphony: Orchestration, Embeddings & More!\",\n",
    "      \"eventUrl\": \"https://www.meetup.com/genai-gurus/events/296972829\",\n",
    "      \"description\": \"In this presentation, we will delve into the transformative potential of AI in shaping systems design and orchestration. The first half is dedicated to exploring Microsoft's pivotal AI services, such as Azure OpenAI and Cognitive Services, focusing on their practical applications. We'll demonstrate how to effectively prototype using Azure and online tools, including Language Studio, offering hands-on insights into leveraging these platforms for innovative AI solutions. In the latter part of the talk, we will focus on the nuances of machine learning systems design. Here, the discussion revolves around orchestrating these disparate AI services for optimized performance, highlighting key considerations for deploying these systems in production environments. This segment aims to equip attendees with a deeper understanding of the complexities and strategic approaches essential for successful AI implementation in real-world scenarios, underlining the significance of thoughtful orchestration in the ever-evolving landscape of AI technologies.\",\n",
    "      \"dateTime\": \"2023-11-16T18:30+01:00\",\n",
    "      \"duration\": \"PT1H\",\n",
    "      \"speakerDetails\": {\n",
    "        \"name\": \"Ioannis Kozaris\",\n",
    "        \"description\": \"Ioannis Kozaris, a Software Engineer specializing in machine learning systems, has been at the forefront of driving innovation in collaborative systems, data storage, and Natural Language Processing systems at Microsoft. He has notably architected ML orchestration systems and intelligent context-aware ML Agents, elevating user experience and optimizing operational efficiency in production applications. Currently, he is part of a task force at Microsoft, dedicated to pioneering applications in Generative AI, setting the course for the future of AI innovations. He is deeply committed to sharing his passion for ML systems with others, aiming to inspire and engage fellow enthusiasts in this evolving field.\",\n",
    "        \"socialNetworks\": [\n",
    "          {\n",
    "            \"service\": \"LINKEDIN\",\n",
    "            \"url\": \"https://www.linkedin.com/in/ioannis-kozaris/\"\n",
    "          }\n",
    "        ]\n",
    "      },\n",
    "      \"host\": {\n",
    "        \"name\": \"Carlos Hernandez-Vaquero\"\n",
    "      }\n",
    "    }\n",
    "  }\n",
    "}\n",
    "\"\"\"\n",
    "reply_struct= json.loads(meetup_json_reply)\n",
    "event= reply_struct['data']['event']"
   ]
  },
  {
   "cell_type": "code",
   "execution_count": 6,
   "metadata": {
    "executionInfo": {
     "elapsed": 5,
     "status": "aborted",
     "timestamp": 1716566256563,
     "user": {
      "displayName": "Diego Minguzzi",
      "userId": "07723992504951144974"
     },
     "user_tz": -120
    },
    "id": "EORnI7lr-hyh"
   },
   "outputs": [],
   "source": [
    "def request_meetup_event_data( event_id:str):\n",
    "  reply_struct= json.loads(meetup_json_reply)\n",
    "  event= reply_struct['data']['event']\n",
    "  return event\n",
    "\n",
    "def meetup_json_to_event_data( meetup_json_reply: str):\n",
    "  reply_struct= json.loads(meetup_json_reply)\n",
    "  event= reply_struct['data']['event']\n",
    "  return event"
   ]
  },
  {
   "cell_type": "code",
   "execution_count": 7,
   "metadata": {
    "executionInfo": {
     "elapsed": 5,
     "status": "aborted",
     "timestamp": 1716566256563,
     "user": {
      "displayName": "Diego Minguzzi",
      "userId": "07723992504951144974"
     },
     "user_tz": -120
    },
    "id": "G-lo9r5W_B4i"
   },
   "outputs": [],
   "source": [
    "# event= request_meetup_event_data( event_id='296972829')\n",
    "# event"
   ]
  },
  {
   "cell_type": "markdown",
   "metadata": {
    "id": "kd0XYdTx9DWu"
   },
   "source": [
    "## Compose the prompt"
   ]
  },
  {
   "cell_type": "code",
   "execution_count": 8,
   "metadata": {
    "executionInfo": {
     "elapsed": 5,
     "status": "aborted",
     "timestamp": 1716566256563,
     "user": {
      "displayName": "Diego Minguzzi",
      "userId": "07723992504951144974"
     },
     "user_tz": -120
    },
    "id": "hHtHtnh7_ex-"
   },
   "outputs": [],
   "source": [
    "openai_model='gpt-3.5-turbo'\n",
    "encoding_name='cl100k_base'\n",
    "num_max_tokens= 4096\n",
    "num_max_input_tokens= num_max_tokens\n",
    "temperature=1.4\n",
    "gen_ai_guru_description=\"\"\"Gen AI Guru is an innovative, non-profit organization that stands at the exciting intersection of science and arts, powered by Generative AI.\n",
    "We recognize the transformative potential of these technologies on the workplace and the broader societal landscape. By joining GenAI Gurus, you don't just join a community; you position yourself in the driving seat of a network of passionate individuals, all committed to shaping the future.\"\"\""
   ]
  },
  {
   "cell_type": "code",
   "execution_count": 9,
   "metadata": {
    "executionInfo": {
     "elapsed": 5,
     "status": "aborted",
     "timestamp": 1716566256563,
     "user": {
      "displayName": "Diego Minguzzi",
      "userId": "07723992504951144974"
     },
     "user_tz": -120
    },
    "id": "S5svjnucEJuW"
   },
   "outputs": [],
   "source": [
    "prompt_template= \"\"\"\n",
    "Write an engaging LinkedIn post to share a Meetup event provided to the GenAI Guru community and to attract participants.\n",
    "DO NOT include hashtags, like #AI, etc. DO NOT include the speaker LinkedIn profile\n",
    "Describe in details the content of the presentation.\n",
    "Highlight the opportunity to learn and understand new technologies and be part of a community.\n",
    "\n",
    "The title of the Meetup is \"{title}\"\n",
    "\n",
    "The speaker is {speaker}\n",
    "\n",
    "The host is {host}\n",
    "\n",
    "The description of the event is:\n",
    "{description}\n",
    "\n",
    "The Meetup will start at {event_time}\n",
    "\n",
    "---\n",
    "\"\"\"\n",
    "def compose_prompt(title: str,\n",
    "                   speaker: str, host:str,\n",
    "                   description:str,\n",
    "                   event_time:str):\n",
    "  data= {'title': title,\n",
    "         'speaker': speaker,\n",
    "         'host': host,\n",
    "         'description':description,\n",
    "         'event_time':event_time}\n",
    "  result= prompt_template.format(**data)\n",
    "  return result\n",
    "\n",
    "def format_date(date_str: str):\n",
    "  date_obj = dateutil.parser.parse(date_str)\n",
    "  date_obj = date_obj.astimezone( pytz.timezone('CET'))\n",
    "  return date_obj.strftime('%A, %B %d, %Y at %I:%M %p %Z')"
   ]
  },
  {
   "cell_type": "code",
   "execution_count": 10,
   "metadata": {
    "executionInfo": {
     "elapsed": 5,
     "status": "aborted",
     "timestamp": 1716566256563,
     "user": {
      "displayName": "Diego Minguzzi",
      "userId": "07723992504951144974"
     },
     "user_tz": -120
    },
    "id": "MwsZ4tfmGjoX"
   },
   "outputs": [],
   "source": [
    "test_prompt= compose_prompt(title=\"\"\"Azure's AI Symphony: Orchestration, Embeddings & More!\"\"\",\n",
    "                            speaker='Ioannis Kozaris',\n",
    "                            host='Carlos Hernandez-Vaquero',\n",
    "                            description='Event description',\n",
    "                            event_time='2023-11-16T18:30+01:00')\n",
    "# print(test_prompt)"
   ]
  },
  {
   "cell_type": "code",
   "execution_count": 11,
   "metadata": {
    "executionInfo": {
     "elapsed": 5,
     "status": "aborted",
     "timestamp": 1716566256563,
     "user": {
      "displayName": "Diego Minguzzi",
      "userId": "07723992504951144974"
     },
     "user_tz": -120
    },
    "id": "KBb_3-EzIzco"
   },
   "outputs": [],
   "source": [
    "prompt= compose_prompt( title=event['title'],\n",
    "                        speaker=event['speakerDetails']['name'],\n",
    "                        host=event['host']['name'],\n",
    "                        description=event['description'],\n",
    "                        event_time=event['dateTime'])"
   ]
  },
  {
   "cell_type": "code",
   "execution_count": 12,
   "metadata": {
    "executionInfo": {
     "elapsed": 5,
     "status": "aborted",
     "timestamp": 1716566256563,
     "user": {
      "displayName": "Diego Minguzzi",
      "userId": "07723992504951144974"
     },
     "user_tz": -120
    },
    "id": "3vntTnoCCZEX"
   },
   "outputs": [],
   "source": [
    "tokenizer = tiktoken.get_encoding(encoding_name)"
   ]
  },
  {
   "cell_type": "code",
   "execution_count": 13,
   "metadata": {
    "executionInfo": {
     "elapsed": 4,
     "status": "aborted",
     "timestamp": 1716566256563,
     "user": {
      "displayName": "Diego Minguzzi",
      "userId": "07723992504951144974"
     },
     "user_tz": -120
    },
    "id": "5ZqhVhfzCecr"
   },
   "outputs": [
    {
     "name": "stdout",
     "output_type": "stream",
     "text": [
      "Num input tokens:308\n"
     ]
    }
   ],
   "source": [
    "prompt_tokens= tokenizer.encode(prompt)\n",
    "num_input_tokens= len(prompt_tokens)\n",
    "print(f'Num input tokens:{num_input_tokens}')\n",
    "assert( num_input_tokens <= num_max_input_tokens )"
   ]
  },
  {
   "cell_type": "markdown",
   "metadata": {
    "id": "VVVCMC9M4hsi"
   },
   "source": [
    "## Issue the request to the LLM"
   ]
  },
  {
   "cell_type": "code",
   "execution_count": 14,
   "metadata": {
    "executionInfo": {
     "elapsed": 5,
     "status": "aborted",
     "timestamp": 1716566256564,
     "user": {
      "displayName": "Diego Minguzzi",
      "userId": "07723992504951144974"
     },
     "user_tz": -120
    },
    "id": "AiNwNBaj_Os2"
   },
   "outputs": [],
   "source": [
    "client = oai.OpenAI(api_key=open_ai_key)\n",
    "completion = client.chat.completions.create(model=openai_model,\n",
    "                                            max_tokens=num_max_tokens,\n",
    "                                            temperature=temperature,\n",
    "                                            messages=[{\"role\": \"user\", \"content\": prompt}])"
   ]
  },
  {
   "cell_type": "code",
   "execution_count": 15,
   "metadata": {
    "executionInfo": {
     "elapsed": 5,
     "status": "aborted",
     "timestamp": 1716566256564,
     "user": {
      "displayName": "Diego Minguzzi",
      "userId": "07723992504951144974"
     },
     "user_tz": -120
    },
    "id": "5fHwogg2QmF0"
   },
   "outputs": [],
   "source": [
    "post= completion.choices[0].message.content"
   ]
  },
  {
   "cell_type": "code",
   "execution_count": 16,
   "metadata": {
    "executionInfo": {
     "elapsed": 5,
     "status": "aborted",
     "timestamp": 1716566256564,
     "user": {
      "displayName": "Diego Minguzzi",
      "userId": "07723992504951144974"
     },
     "user_tz": -120
    },
    "id": "d31zxqRWXZDk"
   },
   "outputs": [],
   "source": [
    "date_str= event['dateTime']\n",
    "post += f'\\n\\n{format_date(date_str)}'"
   ]
  },
  {
   "cell_type": "code",
   "execution_count": 17,
   "metadata": {
    "executionInfo": {
     "elapsed": 5,
     "status": "aborted",
     "timestamp": 1716566256564,
     "user": {
      "displayName": "Diego Minguzzi",
      "userId": "07723992504951144974"
     },
     "user_tz": -120
    },
    "id": "rsR-Lx4FR528"
   },
   "outputs": [],
   "source": [
    "speaker_name= event['speakerDetails']['name']\n",
    "\n",
    "if len(event['speakerDetails']['description'])>0:\n",
    "  speaker_bio= social_platform_url=event['speakerDetails']['description']\n",
    "  post += f'\\n\\n{speaker_bio}'\n",
    "\n",
    "if len(event['speakerDetails']['socialNetworks'])>0:\n",
    "  social= event['speakerDetails']['socialNetworks'][0]['service']\n",
    "  social_url= social_platform_url=event['speakerDetails']['socialNetworks'][0]['url']\n",
    "  post += f'\\n{speaker_name} {social} profile: {social_url}'\n",
    "\n",
    "post += '\\n\\n'\n",
    "post += gen_ai_guru_description\n"
   ]
  },
  {
   "cell_type": "code",
   "execution_count": 18,
   "metadata": {
    "executionInfo": {
     "elapsed": 5,
     "status": "aborted",
     "timestamp": 1716566256564,
     "user": {
      "displayName": "Diego Minguzzi",
      "userId": "07723992504951144974"
     },
     "user_tz": -120
    },
    "id": "bekFrWDhTEW0"
   },
   "outputs": [
    {
     "name": "stdout",
     "output_type": "stream",
     "text": [
      "🚀 Calling all GenAI Gurus! 🚀\n",
      "\n",
      "Exciting news! We're thrilled to bring you a Meetup event that is sure to ignite your passion for AI and technology. Join us for \"Azure's AI Symphony: Orchestration, Embeddings & More!\" hosted by the brilliant Carlos Hernandez-Vaquero.\n",
      "\n",
      "In this one-of-a-kind presentation, Ioannis Kozaris will unravel the transformative power of AI in system design and orchestration. Get ready to explore Microsoft's cutting-edge AI services like Azure OpenAI and Cognitive Services, uncovering their practical applications and innovative solutions. From prototyping with Azure to maximizing online tools like Language Studio, this event promises hands-on insights that will elevate your understanding of AI technology.\n",
      "\n",
      "But that's not all! Dive deep into the art of machine learning systems design, where Ioannis will provide expert insights on orchestrating AI services for optimum performance. Learn about deploying these systems in real-world environments and gain strategic approaches for successful AI implementation. This Meetup is your gateway to a deeper understanding of AI technologies and the pivotal role of thoughtful orchestration in their evolution.\n",
      "\n",
      "Mark your calendars for 16th November 2023, 6:30 PM, and be a part of our growing community of AI enthusiasts. Don't miss out on this exclusive opportunity to expand your knowledge and connect with like-minded individuals. Reserve your spot now and get ready to be inspired!🔥\n",
      "\n",
      "See you there! #AIcommunity #Meetup #AzureAI_SYMPHONY\n",
      "\n",
      "Thursday, November 16, 2023 at 06:30 PM CET\n",
      "\n",
      "Ioannis Kozaris, a Software Engineer specializing in machine learning systems, has been at the forefront of driving innovation in collaborative systems, data storage, and Natural Language Processing systems at Microsoft. He has notably architected ML orchestration systems and intelligent context-aware ML Agents, elevating user experience and optimizing operational efficiency in production applications. Currently, he is part of a task force at Microsoft, dedicated to pioneering applications in Generative AI, setting the course for the future of AI innovations. He is deeply committed to sharing his passion for ML systems with others, aiming to inspire and engage fellow enthusiasts in this evolving field.\n",
      "Ioannis Kozaris LINKEDIN profile: https://www.linkedin.com/in/ioannis-kozaris/\n",
      "\n",
      "Gen AI Guru is an innovative, non-profit organization that stands at the exciting intersection of science and arts, powered by Generative AI.\n",
      "We recognize the transformative potential of these technologies on the workplace and the broader societal landscape. By joining GenAI Gurus, you don't just join a community; you position yourself in the driving seat of a network of passionate individuals, all committed to shaping the future.\n"
     ]
    }
   ],
   "source": [
    "print(post)"
   ]
  },
  {
   "cell_type": "markdown",
   "metadata": {
    "id": "VdmZRT2W4yRz"
   },
   "source": [
    "## Factorize into a Gradio UI interface\n",
    "Make sure you know the <b>Meetup ID</b> of the event, for example:<br> \n",
    "<a target=\"_blank\" href=\"https://www.meetup.com/it-IT/genai-gurus/events/299901738/\">PandasAI Unpacked</a> has Meetup ID = <code>299901738</code><br>\n",
    "Insert the Meetup ID in the form below."
   ]
  },
  {
   "cell_type": "code",
   "execution_count": 19,
   "metadata": {},
   "outputs": [],
   "source": [
    "def generate_meetup_request(input_meetup_event_id:str):\n",
    "  try:\n",
    "    stipped_meetup_event_id= input_meetup_event_id.strip()\n",
    "    if len(stipped_meetup_event_id) <= 0:\n",
    "      return ( '','Got empty Meetup ID.')    \n",
    "        \n",
    "    meetup_request=f\"\"\"query {{\n",
    "        event(id: \"{input_meetup_event_id}\") {{\n",
    "          title\n",
    "          eventUrl\n",
    "          description\n",
    "          dateTime\n",
    "          duration\n",
    "          speakerDetails {{\n",
    "            name\n",
    "            description\n",
    "            socialNetworks {{\n",
    "              service\n",
    "              url\n",
    "            }}\n",
    "          }}\n",
    "          host {{\n",
    "            name\n",
    "          }}\n",
    "        }}\n",
    "      }}\n",
    "    \"\"\"\n",
    "\n",
    "    return ( meetup_request,'')\n",
    "\n",
    "  except Exception as exc:\n",
    "    return ('',prompt,str(exc))\n",
    "\n",
    "  return ('','Internal error')    "
   ]
  },
  {
   "cell_type": "code",
   "execution_count": 20,
   "metadata": {},
   "outputs": [
    {
     "name": "stdout",
     "output_type": "stream",
     "text": [
      "Running on local URL:  http://127.0.0.1:7860\n",
      "IMPORTANT: You are using gradio version 4.24.0, however version 4.29.0 is available, please upgrade.\n",
      "--------\n",
      "Running on public URL: https://b6f5b5219af31f7ae7.gradio.live\n",
      "\n",
      "This share link expires in 72 hours. For free permanent hosting and GPU upgrades, run `gradio deploy` from Terminal to deploy to Spaces (https://huggingface.co/spaces)\n"
     ]
    },
    {
     "data": {
      "text/html": [
       "<div><iframe src=\"https://b6f5b5219af31f7ae7.gradio.live\" width=\"100%\" height=\"500\" allow=\"autoplay; camera; microphone; clipboard-read; clipboard-write;\" frameborder=\"0\" allowfullscreen></iframe></div>"
      ],
      "text/plain": [
       "<IPython.core.display.HTML object>"
      ]
     },
     "metadata": {},
     "output_type": "display_data"
    },
    {
     "data": {
      "text/plain": []
     },
     "execution_count": 20,
     "metadata": {},
     "output_type": "execute_result"
    }
   ],
   "source": [
    "input_meetup_event_id= gr.Textbox(value=\"296972829\", lines=1, max_lines=1, label=\"Meetup event ID\", show_label=True)\n",
    "output_meetup_request= gr.Textbox(value=\"\", label=\"Meetup Request\", show_label=True)\n",
    "output_error= gr.Textbox(value=\"\", label=\"Error\", show_label=True)\n",
    "\n",
    "demo = gr.Interface(fn=generate_meetup_request,\n",
    "                    inputs=[input_meetup_event_id],\n",
    "                    outputs=[output_meetup_request,output_error],\n",
    "                    allow_flagging='never',\n",
    "                    description='<center><h1>Generate the request for the Meetup Playground</h1></center>')\n",
    "\n",
    "demo.launch(share=True)"
   ]
  },
  {
   "cell_type": "markdown",
   "metadata": {},
   "source": [
    "Paste the Meetup Request to the Meetup Playground.<br>\n",
    "<a target=\"_blank\" href=\"https://www.meetup.com/api/playground/#graphQl-playground\">Link to the Playground</a> (the Playground is available even while unlogged).<br>\n",
    "Copy the result, to use it for next step. "
   ]
  },
  {
   "cell_type": "code",
   "execution_count": 21,
   "metadata": {
    "executionInfo": {
     "elapsed": 5,
     "status": "aborted",
     "timestamp": 1716566256564,
     "user": {
      "displayName": "Diego Minguzzi",
      "userId": "07723992504951144974"
     },
     "user_tz": -120
    },
    "id": "uyu8Xvql43uM"
   },
   "outputs": [],
   "source": [
    "def generate_linkedin_post(input_meetup_response:str, temperature=temperature):\n",
    "  try:\n",
    "    prompt=''\n",
    "    event= meetup_json_to_event_data( input_meetup_response)\n",
    "    prompt= compose_prompt( title=event['title'],\n",
    "                            speaker=event['speakerDetails']['name'],\n",
    "                            host=event['host']['name'],\n",
    "                            description=event['description'],\n",
    "                            event_time=event['dateTime'])\n",
    "\n",
    "    tokenizer = tiktoken.get_encoding(encoding_name)\n",
    "\n",
    "    prompt_tokens= tokenizer.encode(prompt)\n",
    "    num_input_tokens= len(prompt_tokens)\n",
    "    if num_input_tokens > num_max_input_tokens:\n",
    "      return ('',prompt,f'Exceeded number of tokens. Got:{num_input_tokens} maximum is {num_max_input_tokens}')\n",
    "\n",
    "    client = oai.OpenAI(api_key=open_ai_key)\n",
    "    completion = client.chat.completions.create(model=openai_model,\n",
    "                                                max_tokens=num_max_tokens,\n",
    "                                                temperature=temperature,\n",
    "                                                messages=[{\"role\": \"user\", \"content\": prompt}])\n",
    "    post= completion.choices[0].message.content\n",
    "    date_str= event['dateTime']\n",
    "    post += f'\\n\\n{format_date(date_str)}'\n",
    "\n",
    "    speaker_name= event['speakerDetails']['name']\n",
    "\n",
    "    if len(event['speakerDetails']['description'])>0:\n",
    "      speaker_bio= social_platform_url=event['speakerDetails']['description']\n",
    "      post += f'\\n\\n{speaker_bio}'\n",
    "\n",
    "    if len(event['speakerDetails']['socialNetworks'])>0:\n",
    "      social= event['speakerDetails']['socialNetworks'][0]['service']\n",
    "      social_url= social_platform_url=event['speakerDetails']['socialNetworks'][0]['url']\n",
    "      post += f'\\n{speaker_name} {social} profile: {social_url}'\n",
    "\n",
    "    post += '\\n\\n'\n",
    "    post += gen_ai_guru_description\n",
    "\n",
    "    return ( post,prompt,'')\n",
    "\n",
    "  except Exception as exc:\n",
    "    return ('',prompt,str(exc))\n",
    "\n",
    "  return ('','','Internal error')"
   ]
  },
  {
   "cell_type": "code",
   "execution_count": 22,
   "metadata": {
    "executionInfo": {
     "elapsed": 6,
     "status": "aborted",
     "timestamp": 1716566256565,
     "user": {
      "displayName": "Diego Minguzzi",
      "userId": "07723992504951144974"
     },
     "user_tz": -120
    },
    "id": "FY9Xop2C6dKB"
   },
   "outputs": [
    {
     "name": "stdout",
     "output_type": "stream",
     "text": [
      "Running on local URL:  http://127.0.0.1:7861\n",
      "IMPORTANT: You are using gradio version 4.24.0, however version 4.29.0 is available, please upgrade.\n",
      "--------\n",
      "Running on public URL: https://cc768655be718b50c8.gradio.live\n",
      "\n",
      "This share link expires in 72 hours. For free permanent hosting and GPU upgrades, run `gradio deploy` from Terminal to deploy to Spaces (https://huggingface.co/spaces)\n"
     ]
    },
    {
     "data": {
      "text/html": [
       "<div><iframe src=\"https://cc768655be718b50c8.gradio.live\" width=\"100%\" height=\"500\" allow=\"autoplay; camera; microphone; clipboard-read; clipboard-write;\" frameborder=\"0\" allowfullscreen></iframe></div>"
      ],
      "text/plain": [
       "<IPython.core.display.HTML object>"
      ]
     },
     "metadata": {},
     "output_type": "display_data"
    },
    {
     "data": {
      "text/plain": []
     },
     "execution_count": 22,
     "metadata": {},
     "output_type": "execute_result"
    }
   ],
   "source": [
    "input_meetup_response= gr.Textbox(value=\"\", label=\"JSon response from Meetup\", show_label=True)\n",
    "input_event_id= gr.Textbox(value=\"296972829\", lines=1, max_lines=1, label=\"Meetup event ID\", show_label=True)\n",
    "input_temperature= gr.Slider(minimum=0.0, maximum=2.0, value=temperature, label=\"Temperature\", show_label=True)\n",
    "output_post= gr.Textbox(value=\"\", label=\"LinkedIn post\", show_label=True)\n",
    "output_prompt= gr.Textbox(value=\"\", label=\"Prompt\", show_label=True)\n",
    "output_error= gr.Textbox(value=\"\", label=\"Error\", show_label=True)\n",
    "\n",
    "demo = gr.Interface(fn=generate_linkedin_post,\n",
    "                    inputs=[input_meetup_response, input_temperature],\n",
    "                    outputs=[output_post,output_prompt,output_error],\n",
    "                    allow_flagging='never',\n",
    "                    description='<center><h1>Create a LinkedIn post from a Meetup event</h1></center>')\n",
    "\n",
    "demo.launch(share=True)"
   ]
  },
  {
   "cell_type": "markdown",
   "metadata": {
    "id": "E6qbsPulMgi2"
   },
   "source": [
    "<b>Example of a generated post:</b>\n",
    "\n",
    "\n",
    "\n",
    "Get ready to be amazed by the wonders of Azure's AI Symphony in our upcoming Meetup event! 🚀\n",
    "\n",
    "Join us as Ioannis Kozaris takes the virtual stage to dive deep into the realm of AI orchestration, embeddings, and so much more. From exploring the cutting-edge AI services provided by Microsoft Azure to guiding attendees on how to prototype innovative solutions using online tools like Language Studio, this presentation is packed with valuable hands-on insights.\n",
    "\n",
    "But that's not all! Carlos Hernandez-Vaquero will be hosting this exciting session, offering a unique opportunity for participants to learn about the nuances of machine learning system design and optimization. Discover how to effectively deploy AI systems in production environments and gain a deeper understanding of the strategic orchestration required for successful implementation in real-world scenarios.\n",
    "\n",
    "Don't miss out on the chance to expand your knowledge, connect with like-minded professionals, and be part of the growing GenAI Guru community. Mark your calendars for November 16th and join us for an evening filled with groundbreaking discussions, valuable learnings, and the opportunity to be part of a vibrant community dedicated to embracing new technologies. See you there! 👩‍💻👨‍💻\n",
    "\n",
    "Thursday, November 16, 2023 at 06:30 PM CET\n",
    "\n",
    "Ioannis Kozaris, a Software Engineer specializing in machine learning systems, has been at the forefront of driving innovation in collaborative systems, data storage, and Natural Language Processing systems at Microsoft. He has notably architected ML orchestration systems and intelligent context-aware ML Agents, elevating user experience and optimizing operational efficiency in production applications. Currently, he is part of a task force at Microsoft, dedicated to pioneering applications in Generative AI, setting the course for the future of AI innovations. He is deeply committed to sharing his passion for ML systems with others, aiming to inspire and engage fellow enthusiasts in this evolving field.\n",
    "Ioannis Kozaris LINKEDIN profile: https://www.linkedin.com/in/ioannis-kozaris/\n",
    "\n",
    "Gen AI Guru is an innovative, non-profit organization that stands at the exciting intersection of science and arts, powered by Generative AI.\n",
    "We recognize the transformative potential of these technologies on the workplace and the broader societal landscape. By joining GenAI Gurus, you don't just join a community; you position yourself in the driving seat of a network of passionate individuals, all committed to shaping the future."
   ]
  }
 ],
 "metadata": {
  "colab": {
   "authorship_tag": "ABX9TyNd+exmNJ4fC0t6WjNh5E9z",
   "mount_file_id": "1hnGIacffXsRJHkmyVRvUn0IOyjprntHc",
   "provenance": [
    {
     "file_id": "1IpGvpfViUmv1jxojBvV39p0GJanedhqX",
     "timestamp": 1716021454064
    }
   ]
  },
  "kernelspec": {
   "display_name": "Python 3 (ipykernel)",
   "language": "python",
   "name": "python3"
  },
  "language_info": {
   "codemirror_mode": {
    "name": "ipython",
    "version": 3
   },
   "file_extension": ".py",
   "mimetype": "text/x-python",
   "name": "python",
   "nbconvert_exporter": "python",
   "pygments_lexer": "ipython3",
   "version": "3.10.14"
  }
 },
 "nbformat": 4,
 "nbformat_minor": 4
}
